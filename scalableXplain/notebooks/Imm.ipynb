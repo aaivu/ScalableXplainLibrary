{
 "cells": [
  {
   "cell_type": "code",
   "execution_count": 1,
   "id": "4d10d4e1",
   "metadata": {},
   "outputs": [],
   "source": [
    "from pyspark.sql import SparkSession\n",
    "from pyspark.ml.feature import VectorAssembler\n",
    "from pyspark.ml.clustering import KMeans\n",
    "from scalablexplain.imm.spark_cluster import DistributedIMMExplainer"
   ]
  },
  {
   "cell_type": "markdown",
   "id": "f7067e68",
   "metadata": {},
   "source": [
    "## 1. Train Demo Model"
   ]
  },
  {
   "cell_type": "code",
   "execution_count": 2,
   "id": "d442e201",
   "metadata": {},
   "outputs": [],
   "source": [
    "JAR_PATH = \"jars/spark-dimm-assembly.jar\"\n",
    "IRIS_CSV = \"data/iris.csv\""
   ]
  },
  {
   "cell_type": "markdown",
   "id": "557ab965",
   "metadata": {},
   "source": [
    "### Note : During Spark Session initialization the distributed imm jar file needs to be added."
   ]
  },
  {
   "cell_type": "code",
   "execution_count": 3,
   "id": "880622eb",
   "metadata": {},
   "outputs": [
    {
     "name": "stderr",
     "output_type": "stream",
     "text": [
      "25/08/13 05:49:53 WARN Utils: Your hostname, inuka-ampavila-HP-EliteBook-850-G7-Notebook-PC resolves to a loopback address: 127.0.1.1; using 192.168.1.7 instead (on interface wlp0s20f3)\n",
      "25/08/13 05:49:53 WARN Utils: Set SPARK_LOCAL_IP if you need to bind to another address\n",
      "25/08/13 05:49:53 WARN NativeCodeLoader: Unable to load native-hadoop library for your platform... using builtin-java classes where applicable\n",
      "Setting default log level to \"WARN\".\n",
      "To adjust logging level use sc.setLogLevel(newLevel). For SparkR, use setLogLevel(newLevel).\n"
     ]
    }
   ],
   "source": [
    "spark = SparkSession.builder \\\n",
    "    .appName(\"Test DIMM on Iris\") \\\n",
    "    .config(\"spark.jars\", JAR_PATH) \\\n",
    "    .getOrCreate()\n",
    "spark.sparkContext.setLogLevel(\"ERROR\")"
   ]
  },
  {
   "cell_type": "code",
   "execution_count": 6,
   "id": "09114ee9",
   "metadata": {},
   "outputs": [],
   "source": [
    "K = 4\n",
    "FEATURE_COLS = ['sepal_length', 'sepal_width', 'petal_length', 'petal_width']\n",
    "\n",
    "# ---- Load Data ----\n",
    "iris_df = spark.read.csv(IRIS_CSV, header=True, inferSchema=True)\n",
    "\n",
    "# ---- Vectorize Features ----\n",
    "vec_assembler = VectorAssembler(inputCols=FEATURE_COLS, outputCol=\"features\")\n",
    "df = vec_assembler.transform(iris_df)\n",
    "\n",
    "# ---- KMeans Clustering ----\n",
    "kmeans = KMeans(k=K, seed=42, featuresCol=\"features\", predictionCol=\"prediction\")\n",
    "model = kmeans.fit(df)\n",
    "clustered_df = model.transform(df)"
   ]
  },
  {
   "cell_type": "code",
   "execution_count": 7,
   "id": "60f45723",
   "metadata": {},
   "outputs": [
    {
     "name": "stdout",
     "output_type": "stream",
     "text": [
      "\n",
      "=== Cluster Centers ===\n",
      "Cluster 0: [5.53214286 2.63571429 3.96071429 1.22857143]\n",
      "Cluster 1: [5.006 3.428 1.462 0.246]\n",
      "Cluster 2: [6.27391304 2.88695652 4.89347826 1.68043478]\n",
      "Cluster 3: [7.02692308 3.1        5.94615385 2.15      ]\n"
     ]
    }
   ],
   "source": [
    "print(\"\\n=== Cluster Centers ===\")\n",
    "for i, center in enumerate(model.clusterCenters()):\n",
    "    print(f\"Cluster {i}: {center}\")"
   ]
  },
  {
   "cell_type": "markdown",
   "id": "9afa5669",
   "metadata": {},
   "source": [
    "## 2. Generate Distributed iterative Mistake Minimization Results"
   ]
  },
  {
   "cell_type": "code",
   "execution_count": 8,
   "id": "dbc1fded",
   "metadata": {},
   "outputs": [
    {
     "name": "stdout",
     "output_type": "stream",
     "text": [
      "Max Bins = 16 || 16\n",
      "=== Best Split Decisions Per Node ===\n",
      "Node 0: featureIndex=3, threshold=6.0, mistakes=0\n",
      "======================================\n",
      "=== Best Split Decisions Per Node ===\n",
      "Node 2: featureIndex=2, threshold=16.0, mistakes=5\n",
      "======================================\n",
      "=== Best Split Decisions Per Node ===\n",
      "Node 5: featureIndex=0, threshold=9.0, mistakes=8\n",
      "======================================\n",
      "=== Best Split Decisions Per Node ===\n",
      "======================================\n",
      "No more splittable nodes.\n"
     ]
    }
   ],
   "source": [
    "explainer = DistributedIMMExplainer(model, num_splits=16, max_bins=16, seed=42)\n",
    "tree, splits, tree_str = explainer.explain(clustered_df)"
   ]
  },
  {
   "cell_type": "markdown",
   "id": "d843ef2e",
   "metadata": {},
   "source": [
    "### Note: Currently debug messages include the threshold index used to split. it is not the exact value. How ever the final result can be observed using graphs or printing the tree as a dot file."
   ]
  },
  {
   "cell_type": "code",
   "execution_count": 9,
   "id": "a1fe20cd",
   "metadata": {},
   "outputs": [
    {
     "name": "stdout",
     "output_type": "stream",
     "text": [
      "\n",
      "=== IMM Tree ===\n",
      "=== Final IMM Explanation Tree ===\n",
      "Node 0: Node 0 | depth=0 | split=(f3 <= 0.800) | clusters=[0,1,3,2] | samples=150 | mistakes=0\n",
      "Node 1: Leaf | depth=1 | split=No split | clusters=[1] | samples=50 | mistakes=0\n",
      "Node 2: Node 2 | depth=1 | split=(f2 <= 5.550) | clusters=[0,3,2] | samples=100 | mistakes=0\n",
      "Node 5: Node 5 | depth=2 | split=(f0 <= 5.750) | clusters=[0,2] | samples=72 | mistakes=0\n",
      "Node 6: Leaf | depth=2 | split=No split | clusters=[3] | samples=25 | mistakes=2\n",
      "Node 11: Leaf | depth=3 | split=No split | clusters=[0] | samples=24 | mistakes=2\n",
      "Node 12: Leaf | depth=3 | split=No split | clusters=[2] | samples=51 | mistakes=9\n",
      "\n"
     ]
    }
   ],
   "source": [
    "# ---- Output Tree ----\n",
    "explainer.print_tree(tree_str)"
   ]
  },
  {
   "cell_type": "code",
   "execution_count": 15,
   "id": "5ec0585c",
   "metadata": {},
   "outputs": [
    {
     "name": "stdout",
     "output_type": "stream",
     "text": [
      "\n",
      "DOT file exported to: results/imm_tree.dot\n"
     ]
    },
    {
     "data": {
      "image/svg+xml": [
       "<?xml version=\"1.0\" encoding=\"UTF-8\" standalone=\"no\"?>\n",
       "<!DOCTYPE svg PUBLIC \"-//W3C//DTD SVG 1.1//EN\"\n",
       " \"http://www.w3.org/Graphics/SVG/1.1/DTD/svg11.dtd\">\n",
       "<!-- Generated by graphviz version 2.43.0 (0)\n",
       " -->\n",
       "<!-- Title: IMMTree Pages: 1 -->\n",
       "<svg width=\"744pt\" height=\"501pt\"\n",
       " viewBox=\"0.00 0.00 744.43 500.67\" xmlns=\"http://www.w3.org/2000/svg\" xmlns:xlink=\"http://www.w3.org/1999/xlink\">\n",
       "<g id=\"graph0\" class=\"graph\" transform=\"scale(1 1) rotate(0) translate(4 496.67)\">\n",
       "<title>IMMTree</title>\n",
       "<polygon fill=\"white\" stroke=\"transparent\" points=\"-4,4 -4,-496.67 740.43,-496.67 740.43,4 -4,4\"/>\n",
       "<!-- 0 -->\n",
       "<g id=\"node1\" class=\"node\">\n",
       "<title>0</title>\n",
       "<ellipse fill=\"none\" stroke=\"black\" cx=\"293.71\" cy=\"-444.58\" rx=\"147.16\" ry=\"48.17\"/>\n",
       "<text text-anchor=\"middle\" x=\"293.71\" y=\"-463.38\" font-family=\"Times,serif\" font-size=\"14.00\">depth=0</text>\n",
       "<text text-anchor=\"middle\" x=\"293.71\" y=\"-448.38\" font-family=\"Times,serif\" font-size=\"14.00\">clusters=0,1,3,2</text>\n",
       "<text text-anchor=\"middle\" x=\"293.71\" y=\"-433.38\" font-family=\"Times,serif\" font-size=\"14.00\">(f3 &lt;= 0.800)</text>\n",
       "<text text-anchor=\"middle\" x=\"293.71\" y=\"-418.38\" font-family=\"Times,serif\" font-size=\"14.00\">samples=150, mistakes=0</text>\n",
       "</g>\n",
       "<!-- 1 -->\n",
       "<g id=\"node2\" class=\"node\">\n",
       "<title>1</title>\n",
       "<ellipse fill=\"none\" stroke=\"black\" cx=\"140.71\" cy=\"-312.42\" rx=\"140.93\" ry=\"48.17\"/>\n",
       "<text text-anchor=\"middle\" x=\"140.71\" y=\"-331.22\" font-family=\"Times,serif\" font-size=\"14.00\">depth=1</text>\n",
       "<text text-anchor=\"middle\" x=\"140.71\" y=\"-316.22\" font-family=\"Times,serif\" font-size=\"14.00\">clusters=1</text>\n",
       "<text text-anchor=\"middle\" x=\"140.71\" y=\"-301.22\" font-family=\"Times,serif\" font-size=\"14.00\">No split</text>\n",
       "<text text-anchor=\"middle\" x=\"140.71\" y=\"-286.22\" font-family=\"Times,serif\" font-size=\"14.00\">samples=50, mistakes=0</text>\n",
       "</g>\n",
       "<!-- 0&#45;&gt;1 -->\n",
       "<g id=\"edge1\" class=\"edge\">\n",
       "<title>0&#45;&gt;1</title>\n",
       "<path fill=\"none\" stroke=\"black\" d=\"M241.92,-399.51C228.51,-388.11 213.97,-375.74 200.2,-364.03\"/>\n",
       "<polygon fill=\"black\" stroke=\"black\" points=\"202.08,-361.03 192.2,-357.22 197.55,-366.36 202.08,-361.03\"/>\n",
       "</g>\n",
       "<!-- 2 -->\n",
       "<g id=\"node3\" class=\"node\">\n",
       "<title>2</title>\n",
       "<ellipse fill=\"none\" stroke=\"black\" cx=\"446.71\" cy=\"-312.42\" rx=\"147.16\" ry=\"48.17\"/>\n",
       "<text text-anchor=\"middle\" x=\"446.71\" y=\"-331.22\" font-family=\"Times,serif\" font-size=\"14.00\">depth=1</text>\n",
       "<text text-anchor=\"middle\" x=\"446.71\" y=\"-316.22\" font-family=\"Times,serif\" font-size=\"14.00\">clusters=0,3,2</text>\n",
       "<text text-anchor=\"middle\" x=\"446.71\" y=\"-301.22\" font-family=\"Times,serif\" font-size=\"14.00\">(f2 &lt;= 5.550)</text>\n",
       "<text text-anchor=\"middle\" x=\"446.71\" y=\"-286.22\" font-family=\"Times,serif\" font-size=\"14.00\">samples=100, mistakes=0</text>\n",
       "</g>\n",
       "<!-- 0&#45;&gt;2 -->\n",
       "<g id=\"edge2\" class=\"edge\">\n",
       "<title>0&#45;&gt;2</title>\n",
       "<path fill=\"none\" stroke=\"black\" d=\"M345.51,-399.51C358.85,-388.17 373.3,-375.87 387,-364.22\"/>\n",
       "<polygon fill=\"black\" stroke=\"black\" points=\"389.62,-366.59 394.97,-357.44 385.08,-361.25 389.62,-366.59\"/>\n",
       "</g>\n",
       "<!-- 5 -->\n",
       "<g id=\"node4\" class=\"node\">\n",
       "<title>5</title>\n",
       "<ellipse fill=\"none\" stroke=\"black\" cx=\"296.71\" cy=\"-180.25\" rx=\"140.93\" ry=\"48.17\"/>\n",
       "<text text-anchor=\"middle\" x=\"296.71\" y=\"-199.05\" font-family=\"Times,serif\" font-size=\"14.00\">depth=2</text>\n",
       "<text text-anchor=\"middle\" x=\"296.71\" y=\"-184.05\" font-family=\"Times,serif\" font-size=\"14.00\">clusters=0,2</text>\n",
       "<text text-anchor=\"middle\" x=\"296.71\" y=\"-169.05\" font-family=\"Times,serif\" font-size=\"14.00\">(f0 &lt;= 5.750)</text>\n",
       "<text text-anchor=\"middle\" x=\"296.71\" y=\"-154.05\" font-family=\"Times,serif\" font-size=\"14.00\">samples=72, mistakes=0</text>\n",
       "</g>\n",
       "<!-- 2&#45;&gt;5 -->\n",
       "<g id=\"edge3\" class=\"edge\">\n",
       "<title>2&#45;&gt;5</title>\n",
       "<path fill=\"none\" stroke=\"black\" d=\"M395.51,-266.98C382.53,-255.72 368.48,-243.53 355.17,-231.98\"/>\n",
       "<polygon fill=\"black\" stroke=\"black\" points=\"357.28,-229.17 347.43,-225.26 352.69,-234.46 357.28,-229.17\"/>\n",
       "</g>\n",
       "<!-- 6 -->\n",
       "<g id=\"node5\" class=\"node\">\n",
       "<title>6</title>\n",
       "<ellipse fill=\"none\" stroke=\"black\" cx=\"595.71\" cy=\"-180.25\" rx=\"140.93\" ry=\"48.17\"/>\n",
       "<text text-anchor=\"middle\" x=\"595.71\" y=\"-199.05\" font-family=\"Times,serif\" font-size=\"14.00\">depth=2</text>\n",
       "<text text-anchor=\"middle\" x=\"595.71\" y=\"-184.05\" font-family=\"Times,serif\" font-size=\"14.00\">clusters=3</text>\n",
       "<text text-anchor=\"middle\" x=\"595.71\" y=\"-169.05\" font-family=\"Times,serif\" font-size=\"14.00\">No split</text>\n",
       "<text text-anchor=\"middle\" x=\"595.71\" y=\"-154.05\" font-family=\"Times,serif\" font-size=\"14.00\">samples=25, mistakes=2</text>\n",
       "</g>\n",
       "<!-- 2&#45;&gt;6 -->\n",
       "<g id=\"edge4\" class=\"edge\">\n",
       "<title>2&#45;&gt;6</title>\n",
       "<path fill=\"none\" stroke=\"black\" d=\"M497.57,-266.98C510.47,-255.72 524.42,-243.53 537.65,-231.98\"/>\n",
       "<polygon fill=\"black\" stroke=\"black\" points=\"540.11,-234.48 545.34,-225.26 535.5,-229.2 540.11,-234.48\"/>\n",
       "</g>\n",
       "<!-- 11 -->\n",
       "<g id=\"node6\" class=\"node\">\n",
       "<title>11</title>\n",
       "<ellipse fill=\"none\" stroke=\"black\" cx=\"147.71\" cy=\"-48.08\" rx=\"140.93\" ry=\"48.17\"/>\n",
       "<text text-anchor=\"middle\" x=\"147.71\" y=\"-66.88\" font-family=\"Times,serif\" font-size=\"14.00\">depth=3</text>\n",
       "<text text-anchor=\"middle\" x=\"147.71\" y=\"-51.88\" font-family=\"Times,serif\" font-size=\"14.00\">clusters=0</text>\n",
       "<text text-anchor=\"middle\" x=\"147.71\" y=\"-36.88\" font-family=\"Times,serif\" font-size=\"14.00\">No split</text>\n",
       "<text text-anchor=\"middle\" x=\"147.71\" y=\"-21.88\" font-family=\"Times,serif\" font-size=\"14.00\">samples=24, mistakes=2</text>\n",
       "</g>\n",
       "<!-- 5&#45;&gt;11 -->\n",
       "<g id=\"edge5\" class=\"edge\">\n",
       "<title>5&#45;&gt;11</title>\n",
       "<path fill=\"none\" stroke=\"black\" d=\"M246.27,-135.18C233.28,-123.84 219.21,-111.54 205.86,-99.88\"/>\n",
       "<polygon fill=\"black\" stroke=\"black\" points=\"207.94,-97.05 198.11,-93.11 203.34,-102.32 207.94,-97.05\"/>\n",
       "</g>\n",
       "<!-- 12 -->\n",
       "<g id=\"node7\" class=\"node\">\n",
       "<title>12</title>\n",
       "<ellipse fill=\"none\" stroke=\"black\" cx=\"446.71\" cy=\"-48.08\" rx=\"140.93\" ry=\"48.17\"/>\n",
       "<text text-anchor=\"middle\" x=\"446.71\" y=\"-66.88\" font-family=\"Times,serif\" font-size=\"14.00\">depth=3</text>\n",
       "<text text-anchor=\"middle\" x=\"446.71\" y=\"-51.88\" font-family=\"Times,serif\" font-size=\"14.00\">clusters=2</text>\n",
       "<text text-anchor=\"middle\" x=\"446.71\" y=\"-36.88\" font-family=\"Times,serif\" font-size=\"14.00\">No split</text>\n",
       "<text text-anchor=\"middle\" x=\"446.71\" y=\"-21.88\" font-family=\"Times,serif\" font-size=\"14.00\">samples=51, mistakes=9</text>\n",
       "</g>\n",
       "<!-- 5&#45;&gt;12 -->\n",
       "<g id=\"edge6\" class=\"edge\">\n",
       "<title>5&#45;&gt;12</title>\n",
       "<path fill=\"none\" stroke=\"black\" d=\"M347.5,-135.18C360.57,-123.84 374.74,-111.54 388.17,-99.88\"/>\n",
       "<polygon fill=\"black\" stroke=\"black\" points=\"390.72,-102.3 395.98,-93.11 386.14,-97.02 390.72,-102.3\"/>\n",
       "</g>\n",
       "</g>\n",
       "</svg>\n"
      ],
      "text/plain": [
       "<graphviz.sources.Source at 0x70f391988c10>"
      ]
     },
     "metadata": {},
     "output_type": "display_data"
    }
   ],
   "source": [
    "DOT_OUTPUT = \"results/imm_tree.dot\"\n",
    "\n",
    "# ---- Optional: Export .dot for Graphviz ----\n",
    "explainer.export_graphviz(tree_str, DOT_OUTPUT)\n",
    "print(f\"\\nDOT file exported to: {DOT_OUTPUT}\")\n",
    "\n",
    "# ---- Stop Spark ----\n",
    "spark.stop()\n",
    "\n",
    "from graphviz import Source\n",
    "from IPython.display import display\n",
    "\n",
    "# Load and display inline\n",
    "src = Source.from_file(DOT_OUTPUT)\n",
    "display(src)  "
   ]
  },
  {
   "cell_type": "code",
   "execution_count": null,
   "id": "701484e6",
   "metadata": {},
   "outputs": [
    {
     "data": {
      "text/plain": [
       "'imm_tree.png'"
      ]
     },
     "execution_count": 14,
     "metadata": {},
     "output_type": "execute_result"
    },
    {
     "name": "stdout",
     "output_type": "stream",
     "text": [
      "Opening in existing browser session.\n"
     ]
    }
   ],
   "source": []
  },
  {
   "cell_type": "code",
   "execution_count": null,
   "id": "6d2a0d08",
   "metadata": {},
   "outputs": [],
   "source": []
  }
 ],
 "metadata": {
  "kernelspec": {
   "display_name": ".venv",
   "language": "python",
   "name": "python3"
  },
  "language_info": {
   "codemirror_mode": {
    "name": "ipython",
    "version": 3
   },
   "file_extension": ".py",
   "mimetype": "text/x-python",
   "name": "python",
   "nbconvert_exporter": "python",
   "pygments_lexer": "ipython3",
   "version": "3.11.11"
  }
 },
 "nbformat": 4,
 "nbformat_minor": 5
}
